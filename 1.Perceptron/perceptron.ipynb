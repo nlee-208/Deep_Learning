{
 "cells": [
  {
   "cell_type": "code",
   "execution_count": 1,
   "metadata": {},
   "outputs": [],
   "source": [
    "import tensorflow as tf"
   ]
  },
  {
   "cell_type": "code",
   "execution_count": 87,
   "metadata": {},
   "outputs": [],
   "source": [
    "x_data = [[0.1, 2.3, 3.7]]\n",
    "X = tf.placeholder(tf.float32, shape = [None,3])\n",
    "W = tf.Variable(tf.random_normal([3,1]), name = 'weight')\n",
    "b = tf.Variable(tf.random_normal([1]), name = 'bias')\n",
    "step = tf.maximum(0.0, tf.sign(tf.matmul(X ,W) + b))\n",
    "sigmoid = 1/(1.0+ tf.exp(-(tf.matmul(X ,W) + b)))\n",
    "relu = tf.maximum(0.0, tf.matmul(X ,W) + b)\n",
    "none = tf.matmul(X ,W) + b\n",
    "hypothesis = [step, sigmoid, relu, none]\n",
    "hyp_list = ['step', 'sigmoid', 'relu', 'none']"
   ]
  },
  {
   "cell_type": "code",
   "execution_count": 94,
   "metadata": {},
   "outputs": [
    {
     "name": "stdout",
     "output_type": "stream",
     "text": [
      "step : 0.0\n",
      "sigmoid : 0.00021956721\n",
      "relu : 0.0\n",
      "none : -8.423633\n"
     ]
    }
   ],
   "source": [
    "#시뮬레이션 1: z 값이 음수\n",
    "with tf.Session() as sess:\n",
    "    sess.run(tf.global_variables_initializer())\n",
    "    prediction = sess.run(hypothesis, feed_dict={X: x_data})\n",
    "    \n",
    "for i in range(len(prediction)):\n",
    "    print(hyp_list[i],':',prediction[i][0][0])"
   ]
  },
  {
   "cell_type": "code",
   "execution_count": 95,
   "metadata": {},
   "outputs": [
    {
     "name": "stdout",
     "output_type": "stream",
     "text": [
      "step : 1.0\n",
      "sigmoid : 0.985647\n",
      "relu : 4.2293363\n",
      "none : 4.2293363\n"
     ]
    }
   ],
   "source": [
    "#시뮬레이션 2: z 값이 양수\n",
    "with tf.Session() as sess:\n",
    "    sess.run(tf.global_variables_initializer())\n",
    "    prediction = sess.run(hypothesis, feed_dict={X: x_data})\n",
    "    \n",
    "for i in range(len(prediction)):\n",
    "    print(hyp_list[i],':',prediction[i][0][0])"
   ]
  },
  {
   "cell_type": "markdown",
   "metadata": {},
   "source": [
    "- Step, Sigmoid, Relu 활성화 함수에 대한 정의와 none에 대한 정의(활성화 함수 입력값 = Z)를 하였다.\n",
    "- Z가 음수인 경우에는 Step은 0, Sigmoid는 매우 작은 양수, 그리고 ReLU는 0을 출력시킨다.\n",
    "- 반대로 Z가 양수 일때는 Step은 1, Sigmoid는 매우 큰 양수, 그리고 ReLU는 Z값을 그대로 출력시키는 것을 볼 수있다.\n",
    "- 따라서, 딥러닝모형의 구조를 디자인할 때 적절한 활성화 함수를 선택하는게 매우 중요해보인다."
   ]
  }
 ],
 "metadata": {
  "kernelspec": {
   "display_name": "Python 3",
   "language": "python",
   "name": "python3"
  },
  "language_info": {
   "codemirror_mode": {
    "name": "ipython",
    "version": 3
   },
   "file_extension": ".py",
   "mimetype": "text/x-python",
   "name": "python",
   "nbconvert_exporter": "python",
   "pygments_lexer": "ipython3",
   "version": "3.7.5"
  }
 },
 "nbformat": 4,
 "nbformat_minor": 4
}
